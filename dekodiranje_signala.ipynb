{
  "cells": [
    {
      "cell_type": "markdown",
      "metadata": {
        "id": "q-AGw9mOabqq"
      },
      "source": [
        "# Dekodiranje signala"
      ]
    },
    {
      "cell_type": "code",
      "execution_count": null,
      "metadata": {
        "id": "OhdiNYSyr897"
      },
      "outputs": [],
      "source": [
        "!git clone https://github.com/nkusla/signal-processing-workshop.git"
      ]
    },
    {
      "cell_type": "code",
      "execution_count": 3,
      "metadata": {
        "id": "q-LSyfmccdXP"
      },
      "outputs": [],
      "source": [
        "# Uljucimo biblioteke koje cemo koristiti\n",
        "import numpy as np\n",
        "import matplotlib.pyplot as plt\n",
        "from scipy.io import wavfile\n",
        "from typing import Tuple, List"
      ]
    },
    {
      "cell_type": "markdown",
      "metadata": {
        "id": "1IdWIs7KZ2fC"
      },
      "source": [
        "## Pomoćne promenljive"
      ]
    },
    {
      "cell_type": "code",
      "execution_count": null,
      "metadata": {
        "id": "hT5KsiWBaCqU"
      },
      "outputs": [],
      "source": [
        "DEFAULT_SAMPLING_RATE = 44100"
      ]
    },
    {
      "cell_type": "code",
      "execution_count": null,
      "metadata": {
        "id": "O7buIkEpZ1XD"
      },
      "outputs": [],
      "source": [
        "MORSE_CODE_DICT = {\n",
        "    \"A\": \".-\",\n",
        "    \"B\": \"-...\",\n",
        "    \"C\": \"-.-.\",\n",
        "    \"D\": \"-..\",\n",
        "    \"E\": \".\",\n",
        "    \"F\": \"..-.\",\n",
        "    \"G\": \"--.\",\n",
        "    \"H\": \"....\",\n",
        "    \"I\": \"..\",\n",
        "    \"J\": \".---\",\n",
        "    \"K\": \"-.-\",\n",
        "    \"L\": \".-..\",\n",
        "    \"M\": \"--\",\n",
        "    \"N\": \"-.\",\n",
        "    \"O\": \"---\",\n",
        "    \"P\": \".--.\",\n",
        "    \"Q\": \"--.-\",\n",
        "    \"R\": \".-.\",\n",
        "    \"S\": \"...\",\n",
        "    \"T\": \"-\",\n",
        "    \"U\": \"..-\",\n",
        "    \"V\": \"...-\",\n",
        "    \"W\": \".--\",\n",
        "    \"X\": \"-..-\",\n",
        "    \"Y\": \"-.--\",\n",
        "    \"Z\": \"--..\",\n",
        "    \"1\": \".----\",\n",
        "    \"2\": \"..---\",\n",
        "    \"3\": \"...--\",\n",
        "    \"4\": \"....-\",\n",
        "    \"5\": \".....\",\n",
        "    \"6\": \"-....\",\n",
        "    \"7\": \"--...\",\n",
        "    \"8\": \"---..\",\n",
        "    \"9\": \"----.\",\n",
        "    \"0\": \"-----\",\n",
        "    \", \": \"--..--\",\n",
        "    \".\": \".-.-.-\",\n",
        "    \"?\": \"..--..\",\n",
        "    \"/\": \"-..-.\",\n",
        "    \"-\": \"-....-\",\n",
        "    \"(\": \"-.--.\",\n",
        "    \")\": \"-.--.-\",\n",
        "    \" \": \" \",\n",
        "}\n",
        "\n",
        "MORSE_TO_INT = {\n",
        "    \" \": 0,\n",
        "    \".\": 1,\n",
        "    \"-\": 2,\n",
        "}\n",
        "\n",
        "MORSE_CODE_TO_CHAR_DICT = {}\n",
        "for key, value in MORSE_CODE_DICT.items():\n",
        "\tMORSE_CODE_TO_CHAR_DICT[value] = key"
      ]
    },
    {
      "cell_type": "markdown",
      "metadata": {
        "id": "Y1G259llZY_Z"
      },
      "source": [
        "## Pomoćne funkcije"
      ]
    },
    {
      "cell_type": "code",
      "execution_count": null,
      "metadata": {
        "id": "c-hyrGUdiN4c"
      },
      "outputs": [],
      "source": [
        "def read_signal_from_wav(path: str) -> Tuple[int, np.ndarray]:\n",
        "    \"\"\"\n",
        "    Reads the signal from the wav file\n",
        "    \"\"\"\n",
        "    rate, signal = wavfile.read(path)\n",
        "    return rate, signal"
      ]
    },
    {
      "cell_type": "code",
      "execution_count": null,
      "metadata": {
        "id": "3lVJfsdYqG0P"
      },
      "outputs": [],
      "source": [
        "def save_signal_to_wav(signal: np.ndarray, path: str, sample_rate: int) -> None:\n",
        "    \"\"\"\n",
        "    Saves the generated signal to a wav file on the given path\n",
        "    \"\"\"\n",
        "    wavfile.write(filename=path, rate=sample_rate, data=signal)"
      ]
    },
    {
      "cell_type": "code",
      "execution_count": null,
      "metadata": {
        "id": "vGkdYCz4ZTho"
      },
      "outputs": [],
      "source": [
        "def plot_digital_signal(signal: np.ndarray) -> None:\n",
        "    \"\"\"\n",
        "    Plots the digital signal in time\n",
        "    \"\"\"\n",
        "    # gives the signal unit width\n",
        "    time = np.array([t for i in range(1, signal.shape[0] + 1) for t in [i - 1, i]])\n",
        "    signal = np.array([sig for sig in signal for _ in [0, 1]])\n",
        "\n",
        "    plt.figure(figsize=(15, 5))\n",
        "    plt.plot(time, signal, \"b-\")\n",
        "    plt.grid(visible=True)\n",
        "    plt.show()"
      ]
    },
    {
      "cell_type": "code",
      "execution_count": null,
      "metadata": {
        "id": "0vUiTLElaKcC"
      },
      "outputs": [],
      "source": [
        "def plot_analog_signal(time: np.ndarray, signal: np.ndarray) -> None:\n",
        "    \"\"\"\n",
        "    Plots the analog signal in time\n",
        "    \"\"\"\n",
        "    pass"
      ]
    },
    {
      "cell_type": "markdown",
      "metadata": {
        "id": "vU1fgXtiapBi"
      },
      "source": [
        "## Obrada signala"
      ]
    },
    {
      "cell_type": "markdown",
      "metadata": {
        "id": "by84rtKCarR-"
      },
      "source": [
        "### Signal_01.wav"
      ]
    },
    {
      "cell_type": "code",
      "execution_count": null,
      "metadata": {
        "id": "OTrhufETcDtQ"
      },
      "outputs": [],
      "source": []
    },
    {
      "cell_type": "markdown",
      "metadata": {
        "id": "lMDV0aBWcEEG"
      },
      "source": [
        "### Signal_02.wav"
      ]
    },
    {
      "cell_type": "code",
      "execution_count": null,
      "metadata": {
        "id": "wgySKs35cGDk"
      },
      "outputs": [],
      "source": []
    },
    {
      "cell_type": "markdown",
      "metadata": {
        "id": "zCGnnXxucIAe"
      },
      "source": [
        "### Signal_03.wav *"
      ]
    },
    {
      "cell_type": "code",
      "execution_count": null,
      "metadata": {
        "id": "t0NXKzV9cKVL"
      },
      "outputs": [],
      "source": []
    },
    {
      "cell_type": "markdown",
      "metadata": {
        "id": "UzSWgWOncIIA"
      },
      "source": [
        "### Signal_04.wav"
      ]
    },
    {
      "cell_type": "code",
      "execution_count": null,
      "metadata": {
        "id": "y8fHVYeecMMi"
      },
      "outputs": [],
      "source": []
    },
    {
      "cell_type": "markdown",
      "metadata": {
        "id": "99o6bhZ8cINz"
      },
      "source": [
        "### Signal_05.wav"
      ]
    },
    {
      "cell_type": "code",
      "execution_count": null,
      "metadata": {
        "id": "Xs6PAzC1cODS"
      },
      "outputs": [],
      "source": []
    },
    {
      "cell_type": "markdown",
      "metadata": {
        "id": "dlYacK1ocISv"
      },
      "source": [
        "### Signal_06.wav"
      ]
    },
    {
      "cell_type": "code",
      "execution_count": null,
      "metadata": {
        "id": "SF72nmLxcZ5z"
      },
      "outputs": [],
      "source": []
    },
    {
      "cell_type": "markdown",
      "metadata": {
        "id": "yqxBz8l-d5PZ"
      },
      "source": [
        "### Signal_07.wav (Bonus)"
      ]
    },
    {
      "cell_type": "code",
      "execution_count": null,
      "metadata": {
        "id": "3gYQXkmId8Sj"
      },
      "outputs": [],
      "source": []
    },
    {
      "cell_type": "markdown",
      "metadata": {},
      "source": [
        "### Obrada nepoznatog signala dobijenog od SDR-a"
      ]
    },
    {
      "cell_type": "code",
      "execution_count": null,
      "metadata": {},
      "outputs": [],
      "source": []
    }
  ],
  "metadata": {
    "colab": {
      "provenance": []
    },
    "kernelspec": {
      "display_name": "Python 3",
      "name": "python3"
    },
    "language_info": {
      "name": "python"
    }
  },
  "nbformat": 4,
  "nbformat_minor": 0
}
