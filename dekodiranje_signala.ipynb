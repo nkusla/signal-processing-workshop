{
  "nbformat": 4,
  "nbformat_minor": 0,
  "metadata": {
    "colab": {
      "provenance": []
    },
    "kernelspec": {
      "name": "python3",
      "display_name": "Python 3"
    },
    "language_info": {
      "name": "python"
    }
  },
  "cells": [
    {
      "cell_type": "markdown",
      "source": [
        "# Dekodiranje signala"
      ],
      "metadata": {
        "id": "q-AGw9mOabqq"
      }
    },
    {
      "cell_type": "code",
      "source": [
        "!git clone https://github.com/nkusla/signal-processing-workshop.git signali"
      ],
      "metadata": {
        "id": "OhdiNYSyr897"
      },
      "execution_count": null,
      "outputs": []
    },
    {
      "cell_type": "code",
      "source": [
        "# Uljucimo biblioteke koje cemo koristiti\n",
        "import numpy as np\n",
        "import matplotlib.pyplot as plt\n",
        "from scipy.io import wavfile\n",
        "from typing import Tuple, List"
      ],
      "metadata": {
        "id": "q-LSyfmccdXP"
      },
      "execution_count": 3,
      "outputs": []
    },
    {
      "cell_type": "markdown",
      "source": [
        "## Pomoćne promenljive"
      ],
      "metadata": {
        "id": "1IdWIs7KZ2fC"
      }
    },
    {
      "cell_type": "code",
      "source": [
        "DEFAULT_SAMPLING_RATE = 44100"
      ],
      "metadata": {
        "id": "hT5KsiWBaCqU"
      },
      "execution_count": null,
      "outputs": []
    },
    {
      "cell_type": "code",
      "source": [
        "MORSE_CODE_DICT = {\n",
        "    \"A\": \".-\",\n",
        "    \"B\": \"-...\",\n",
        "    \"C\": \"-.-.\",\n",
        "    \"D\": \"-..\",\n",
        "    \"E\": \".\",\n",
        "    \"F\": \"..-.\",\n",
        "    \"G\": \"--.\",\n",
        "    \"H\": \"....\",\n",
        "    \"I\": \"..\",\n",
        "    \"J\": \".---\",\n",
        "    \"K\": \"-.-\",\n",
        "    \"L\": \".-..\",\n",
        "    \"M\": \"--\",\n",
        "    \"N\": \"-.\",\n",
        "    \"O\": \"---\",\n",
        "    \"P\": \".--.\",\n",
        "    \"Q\": \"--.-\",\n",
        "    \"R\": \".-.\",\n",
        "    \"S\": \"...\",\n",
        "    \"T\": \"-\",\n",
        "    \"U\": \"..-\",\n",
        "    \"V\": \"...-\",\n",
        "    \"W\": \".--\",\n",
        "    \"X\": \"-..-\",\n",
        "    \"Y\": \"-.--\",\n",
        "    \"Z\": \"--..\",\n",
        "    \"1\": \".----\",\n",
        "    \"2\": \"..---\",\n",
        "    \"3\": \"...--\",\n",
        "    \"4\": \"....-\",\n",
        "    \"5\": \".....\",\n",
        "    \"6\": \"-....\",\n",
        "    \"7\": \"--...\",\n",
        "    \"8\": \"---..\",\n",
        "    \"9\": \"----.\",\n",
        "    \"0\": \"-----\",\n",
        "    \", \": \"--..--\",\n",
        "    \".\": \".-.-.-\",\n",
        "    \"?\": \"..--..\",\n",
        "    \"/\": \"-..-.\",\n",
        "    \"-\": \"-....-\",\n",
        "    \"(\": \"-.--.\",\n",
        "    \")\": \"-.--.-\",\n",
        "    \" \": \" \",\n",
        "}\n",
        "\n",
        "MORSE_TO_INT = {\n",
        "    \" \": 0,\n",
        "    \".\": 1,\n",
        "    \"-\": 2,\n",
        "}\n",
        "\n",
        "MORSE_CODE_TO_CHAR_DICT = {}\n",
        "for key, value in MORSE_CODE_DICT.items():\n",
        "\tMORSE_CODE_TO_CHAR_DICT[value] = key"
      ],
      "metadata": {
        "id": "O7buIkEpZ1XD"
      },
      "execution_count": null,
      "outputs": []
    },
    {
      "cell_type": "markdown",
      "source": [
        "## Pomoćne funkcije"
      ],
      "metadata": {
        "id": "Y1G259llZY_Z"
      }
    },
    {
      "cell_type": "code",
      "source": [
        "def read_signal_from_wav(path: str) -> Tuple[int, np.ndarray]:\n",
        "    \"\"\"\n",
        "    Reads the signal from the wav file\n",
        "    \"\"\"\n",
        "    rate, signal = wavfile.read(path)\n",
        "    return rate, signal"
      ],
      "metadata": {
        "id": "c-hyrGUdiN4c"
      },
      "execution_count": null,
      "outputs": []
    },
    {
      "cell_type": "code",
      "source": [
        "def save_signal_to_wav(signal: np.ndarray, path: str, sample_rate: int) -> None:\n",
        "    \"\"\"\n",
        "    Saves the generated signal to a wav file on the given path\n",
        "    \"\"\"\n",
        "    wavfile.write(filename=path, rate=sample_rate, data=signal)"
      ],
      "metadata": {
        "id": "3lVJfsdYqG0P"
      },
      "execution_count": null,
      "outputs": []
    },
    {
      "cell_type": "code",
      "execution_count": null,
      "metadata": {
        "id": "vGkdYCz4ZTho"
      },
      "outputs": [],
      "source": [
        "def plot_digital_signal(signal: np.ndarray) -> None:\n",
        "    \"\"\"\n",
        "    Plots the digital signal in time\n",
        "    \"\"\"\n",
        "    # gives the signal unit width\n",
        "    time = np.array([t for i in range(1, signal.shape[0] + 1) for t in [i - 1, i]])\n",
        "    signal = np.array([sig for sig in signal for _ in [0, 1]])\n",
        "\n",
        "    plt.figure(figsize=(15, 5))\n",
        "    plt.plot(time, signal, \"b-\")\n",
        "    plt.grid(visible=True)\n",
        "    plt.show()"
      ]
    },
    {
      "cell_type": "code",
      "source": [
        "def plot_analog_signal(time: np.ndarray, signal: np.ndarray) -> None:\n",
        "    \"\"\"\n",
        "    Plots the analog signal in time\n",
        "    \"\"\"\n",
        "    pass"
      ],
      "metadata": {
        "id": "0vUiTLElaKcC"
      },
      "execution_count": null,
      "outputs": []
    },
    {
      "cell_type": "markdown",
      "source": [
        "## Obrada signala"
      ],
      "metadata": {
        "id": "vU1fgXtiapBi"
      }
    },
    {
      "cell_type": "markdown",
      "source": [
        "### Signal_01.wav"
      ],
      "metadata": {
        "id": "by84rtKCarR-"
      }
    },
    {
      "cell_type": "code",
      "source": [],
      "metadata": {
        "id": "OTrhufETcDtQ"
      },
      "execution_count": null,
      "outputs": []
    },
    {
      "cell_type": "markdown",
      "source": [
        "### Signal_02.wav"
      ],
      "metadata": {
        "id": "lMDV0aBWcEEG"
      }
    },
    {
      "cell_type": "code",
      "source": [],
      "metadata": {
        "id": "wgySKs35cGDk"
      },
      "execution_count": null,
      "outputs": []
    },
    {
      "cell_type": "markdown",
      "source": [
        "### Signal_03.wav *"
      ],
      "metadata": {
        "id": "zCGnnXxucIAe"
      }
    },
    {
      "cell_type": "code",
      "source": [],
      "metadata": {
        "id": "t0NXKzV9cKVL"
      },
      "execution_count": null,
      "outputs": []
    },
    {
      "cell_type": "markdown",
      "source": [
        "### Signal_04.wav"
      ],
      "metadata": {
        "id": "UzSWgWOncIIA"
      }
    },
    {
      "cell_type": "code",
      "source": [],
      "metadata": {
        "id": "y8fHVYeecMMi"
      },
      "execution_count": null,
      "outputs": []
    },
    {
      "cell_type": "markdown",
      "source": [
        "### Signal_05.wav"
      ],
      "metadata": {
        "id": "99o6bhZ8cINz"
      }
    },
    {
      "cell_type": "code",
      "source": [],
      "metadata": {
        "id": "Xs6PAzC1cODS"
      },
      "execution_count": null,
      "outputs": []
    },
    {
      "cell_type": "markdown",
      "source": [
        "### Signal_06.wav"
      ],
      "metadata": {
        "id": "dlYacK1ocISv"
      }
    },
    {
      "cell_type": "code",
      "source": [],
      "metadata": {
        "id": "SF72nmLxcZ5z"
      },
      "execution_count": null,
      "outputs": []
    },
    {
      "cell_type": "markdown",
      "source": [
        "### Signal_07.wav (Bonus)"
      ],
      "metadata": {
        "id": "yqxBz8l-d5PZ"
      }
    },
    {
      "cell_type": "code",
      "source": [],
      "metadata": {
        "id": "3gYQXkmId8Sj"
      },
      "execution_count": null,
      "outputs": []
    }
  ]
}