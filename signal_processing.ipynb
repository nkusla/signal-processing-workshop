{
  "cells": [
    {
      "cell_type": "markdown",
      "metadata": {
        "id": "EN2ycP832Y31"
      },
      "source": [
        "# Signal processing"
      ]
    },
    {
      "cell_type": "code",
      "execution_count": 5,
      "metadata": {
        "id": "RqXD1dWV4viN"
      },
      "outputs": [],
      "source": [
        "from typing import Tuple, List\n",
        "from scipy.io import wavfile\n",
        "import scipy.signal as ss\n",
        "import numpy as np\n",
        "import matplotlib.pyplot as plt\n",
        "from random import randint, seed"
      ]
    },
    {
      "cell_type": "markdown",
      "metadata": {
        "id": "UG7NPZqv24jo"
      },
      "source": [
        "### Morse code"
      ]
    },
    {
      "cell_type": "code",
      "source": [
        "SECRET_SENTECE = \"KDMDS PC MD PGC PC FCTO TJOLCFB! LBMBSO PC KD MLOUIB\""
      ],
      "metadata": {
        "id": "LDyr58mPNeAg"
      },
      "execution_count": 6,
      "outputs": []
    },
    {
      "cell_type": "code",
      "execution_count": 7,
      "metadata": {
        "id": "vEWiTdaz28UB"
      },
      "outputs": [],
      "source": [
        "MORSE_CODE_DICT = {\n",
        "    \"A\": \".-\",\n",
        "    \"B\": \"-...\",\n",
        "    \"C\": \"-.-.\",\n",
        "    \"D\": \"-..\",\n",
        "    \"E\": \".\",\n",
        "    \"F\": \"..-.\",\n",
        "    \"G\": \"--.\",\n",
        "    \"H\": \"....\",\n",
        "    \"I\": \"..\",\n",
        "    \"J\": \".---\",\n",
        "    \"K\": \"-.-\",\n",
        "    \"L\": \".-..\",\n",
        "    \"M\": \"--\",\n",
        "    \"N\": \"-.\",\n",
        "    \"O\": \"---\",\n",
        "    \"P\": \".--.\",\n",
        "    \"Q\": \"--.-\",\n",
        "    \"R\": \".-.\",\n",
        "    \"S\": \"...\",\n",
        "    \"T\": \"-\",\n",
        "    \"U\": \"..-\",\n",
        "    \"V\": \"...-\",\n",
        "    \"W\": \".--\",\n",
        "    \"X\": \"-..-\",\n",
        "    \"Y\": \"-.--\",\n",
        "    \"Z\": \"--..\",\n",
        "    \"1\": \".----\",\n",
        "    \"2\": \"..---\",\n",
        "    \"3\": \"...--\",\n",
        "    \"4\": \"....-\",\n",
        "    \"5\": \".....\",\n",
        "    \"6\": \"-....\",\n",
        "    \"7\": \"--...\",\n",
        "    \"8\": \"---..\",\n",
        "    \"9\": \"----.\",\n",
        "    \"0\": \"-----\",\n",
        "    \", \": \"--..--\",\n",
        "    \".\": \".-.-.-\",\n",
        "    \"?\": \"..--..\",\n",
        "    \"/\": \"-..-.\",\n",
        "    \"-\": \"-....-\",\n",
        "    \"(\": \"-.--.\",\n",
        "    \")\": \"-.--.-\",\n",
        "    \" \": \"---...\",\n",
        "    \"~\": \" \"\n",
        "}\n",
        "\n",
        "MORSE_TO_INT = {\n",
        "    \" \": 0,\n",
        "    \".\": 1,\n",
        "    \"-\": 2,\n",
        "}\n",
        "\n",
        "MORSE_CODE_TO_CHAR_DICT = {}\n",
        "for key, value in MORSE_CODE_DICT.items():\n",
        "\tMORSE_CODE_TO_CHAR_DICT[value] = key"
      ]
    },
    {
      "cell_type": "markdown",
      "metadata": {
        "id": "lMm2NOeB6Faa"
      },
      "source": [
        "## WAV file format functions"
      ]
    },
    {
      "cell_type": "code",
      "source": [
        "DEFAULT_SAMPLING_RATE = 44100"
      ],
      "metadata": {
        "id": "1ZEKwvtq1t0-"
      },
      "execution_count": 8,
      "outputs": []
    },
    {
      "cell_type": "code",
      "execution_count": 9,
      "metadata": {
        "id": "SmMfYLAT6Ll2"
      },
      "outputs": [],
      "source": [
        "def save_signal_to_wav(signal: np.ndarray, duration: float, path: str, sample_rate: int = None) -> None:\n",
        "    \"\"\"\n",
        "    Saves the generated signal to a wav file on the given path\n",
        "\n",
        "    Sample rate calculated as len(signal) / duration\n",
        "    \"\"\"\n",
        "    if sample_rate == None:\n",
        "        sample_rate = signal.shape[0] // duration\n",
        "\n",
        "    wavfile.write(filename=path, rate=sample_rate, data=signal)"
      ]
    },
    {
      "cell_type": "code",
      "execution_count": 10,
      "metadata": {
        "id": "D2KYBf566MEs"
      },
      "outputs": [],
      "source": [
        "def read_signal_from_wav(path: str) -> Tuple[int, np.ndarray]:\n",
        "    \"\"\"\n",
        "    Reads the signal from the wav file\n",
        "    \"\"\"\n",
        "    rate, signal = wavfile.read(path)\n",
        "    return rate, signal"
      ]
    },
    {
      "cell_type": "markdown",
      "metadata": {
        "id": "S6pZICv52fRB"
      },
      "source": [
        "## Encoding to digital signal"
      ]
    },
    {
      "cell_type": "code",
      "execution_count": 11,
      "metadata": {
        "id": "gxpnC4eG3eTs"
      },
      "outputs": [],
      "source": [
        "def plot_digital_signal(signal: np.ndarray) -> None:\n",
        "    \"\"\"\n",
        "    Plots the digital signal in time\n",
        "    \"\"\"\n",
        "    # gives the signal unit width\n",
        "    time = np.array([t for i in range(1, signal.shape[0] + 1) for t in [i - 1, i]])\n",
        "    signal = np.array([sig for sig in signal for _ in [0, 1]])\n",
        "\n",
        "    plt.figure(figsize=(15, 5))\n",
        "    plt.plot(time, signal, \"b-\")\n",
        "    plt.grid(visible=True, which=\"both\", axis=\"both\")\n",
        "    plt.show()"
      ]
    },
    {
      "cell_type": "code",
      "execution_count": 12,
      "metadata": {
        "id": "RFDPPmLw5Cit"
      },
      "outputs": [],
      "source": [
        "def binary_digital_signal(sentence: str) -> np.ndarray:\n",
        "    \"\"\"\n",
        "    Makes a binary digital wave numpy array out of the passed sentence\n",
        "\n",
        "    Turns sentence into bytes, then makes waves with width 1 unit,\n",
        "    with amplitude 1 unit where byte was 1 else 0\n",
        "\n",
        "    With width being 1, it just means that the freq is constant\n",
        "    \"\"\"\n",
        "    byte_str = bytearray(sentence, encoding=\"utf-8\")\n",
        "    binary_chars = [\n",
        "        char.replace(\"0b\", \"\").rjust(8, '0')\n",
        "        for char in list(map(bin, byte_str))\n",
        "    ]\n",
        "    binary_str = \"\".join(binary_chars)\n",
        "\n",
        "    signal = np.array([int(char) for char in binary_str])\n",
        "\n",
        "    return signal"
      ]
    },
    {
      "cell_type": "code",
      "execution_count": 13,
      "metadata": {
        "id": "PqlDfiFj5Cw2"
      },
      "outputs": [],
      "source": [
        "def digital_am_signal(sentence: str) -> np.ndarray:\n",
        "    \"\"\"\n",
        "    Makes a digital am wave numpy array out of the passed sentence\n",
        "\n",
        "    Ords each char of the sentence and uses that number for the amplitude\n",
        "    Width is 1 for each amplitude\n",
        "\n",
        "    With width being 1, it just means that the freq is constant\n",
        "    \"\"\"\n",
        "    byte_str = bytearray(sentence, encoding=\"utf-8\")\n",
        "    signal = np.array(list(byte_str))\n",
        "\n",
        "    return signal"
      ]
    },
    {
      "cell_type": "code",
      "execution_count": 14,
      "metadata": {
        "id": "7AIj4O-o5IC9"
      },
      "outputs": [],
      "source": [
        "def morse_code_signal(sentence: str) -> np.ndarray:\n",
        "    \"\"\"\n",
        "    Turns the sentence into morse code then that morse code string to a numpy signal\n",
        "\n",
        "    . == 1 in code [1, 0] where 0 represents the end impulse 0\n",
        "    - == 1 1 1\n",
        "    ' ' == 0 0 0 in code only [0, 0] because it will always be after an end impulse 0\n",
        "    \"\"\"\n",
        "    sentence = \"~\".join(list(sentence))\n",
        "    sentence = sentence.upper().strip()\n",
        "    signal = list(map(\n",
        "        lambda d: [0, 0] if d == 0 else [1, 0] if d == 1 else [1, 1, 1, 0],\n",
        "        list(\n",
        "            map(\n",
        "                lambda c: MORSE_TO_INT[c],\n",
        "                \"\".join(list(map(lambda c: MORSE_CODE_DICT[c], sentence))),\n",
        "            )\n",
        "        ),\n",
        "    ))\n",
        "    return np.array([el for morse_char in signal for el in morse_char])"
      ]
    },
    {
      "cell_type": "code",
      "execution_count": 15,
      "metadata": {
        "id": "rNtAgOintjPS"
      },
      "outputs": [],
      "source": [
        "def binary_digital_signals_with_errors(sentence: str, error_ratio: int = 0.025) -> List[np.ndarray]:\n",
        "    \"\"\"\n",
        "    Generates list of three identical signal that have some errors in their bits.\n",
        "\n",
        "    Each singal is equal in length so they can be used to error correct changed bits.\n",
        "    Error ration and number of bits that sentence determine how many errors there will be\n",
        "    \"\"\"\n",
        "    seed(0)\n",
        "\n",
        "    signals = [binary_digital_signal(sentence) for _ in range(3)]\n",
        "\n",
        "    total_num_bits = len(sentence) * 8\n",
        "    num_errors = int(error_ratio * total_num_bits)\n",
        "\n",
        "    for _ in range(num_errors):\n",
        "        signals[randint(0, 2)][randint(0, total_num_bits-1)] ^= 1\n",
        "\n",
        "    return signals"
      ]
    },
    {
      "cell_type": "markdown",
      "metadata": {
        "id": "8u8LLjuD2kXQ"
      },
      "source": [
        "## Decoding from digital signal"
      ]
    },
    {
      "cell_type": "code",
      "execution_count": 16,
      "metadata": {
        "id": "w84lycaVARUZ"
      },
      "outputs": [],
      "source": [
        "def decode_binary_digital_signal(signal: np.ndarray) -> str:\n",
        "    \"\"\"\n",
        "    Decodes a string from digital binary signal\n",
        "\n",
        "    Signal gets split for every 8th element, then 8 string bits get converted\n",
        "    to int value and then to ascii char.\n",
        "    \"\"\"\n",
        "    string = \"\"\n",
        "    split_signal = np.split(signal, signal.shape[0] // 8)\n",
        "\n",
        "    for split in split_signal:\n",
        "        binary_char = \"\".join([str(bit) for bit in split])\n",
        "        string += chr(int(binary_char, 2))\n",
        "\n",
        "    return string"
      ]
    },
    {
      "cell_type": "code",
      "execution_count": 17,
      "metadata": {
        "id": "ZfdvEzQJs5tb"
      },
      "outputs": [],
      "source": [
        "def decode_digital_am_signal(signal: np.ndarray) -> str:\n",
        "    \"\"\"\n",
        "    Decodes a string from digital amplitude modulated singal\n",
        "\n",
        "    Each amplitude gets converted to ascii char\n",
        "    \"\"\"\n",
        "    string = \"\".join([chr(amp) for amp in signal])\n",
        "    return string"
      ]
    },
    {
      "cell_type": "code",
      "execution_count": 18,
      "metadata": {
        "id": "gzWMSe-Lt8_a"
      },
      "outputs": [],
      "source": [
        "def decode_morse_code_signal(signal: np.ndarray) -> str:\n",
        "    \"\"\"\n",
        "    Decodes a string from digital morse code signal\n",
        "    \"\"\"\n",
        "    past_sig = 0\n",
        "    curr_morse_ch = \"\"\n",
        "    curr_code = \"\"\n",
        "    list_msg = []\n",
        "\n",
        "    for sig in signal:\n",
        "        if past_sig == 0 and sig == 0:\n",
        "            if curr_morse_ch != \"\":\n",
        "                list_msg.append(curr_morse_ch)\n",
        "\n",
        "                curr_morse_ch = \"\"\n",
        "                curr_code = \"\"\n",
        "                continue\n",
        "\n",
        "        elif past_sig == 1 and sig == 0:\n",
        "            if curr_code == \"1\":\n",
        "                curr_morse_ch += '.'\n",
        "            else:\n",
        "                curr_morse_ch += '-'\n",
        "            curr_code = ''\n",
        "\n",
        "        elif sig == 1:\n",
        "            curr_code += '1'\n",
        "\n",
        "        past_sig = sig\n",
        "\n",
        "    list_msg.append(curr_morse_ch)\n",
        "\n",
        "    sentence = [list(MORSE_CODE_DICT.keys())[list(MORSE_CODE_DICT.values()).index(a)] for a in list_msg]\n",
        "\n",
        "    return \"\".join(sentence)"
      ]
    },
    {
      "cell_type": "code",
      "execution_count": 19,
      "metadata": {
        "id": "AdT3CwXJvBMx"
      },
      "outputs": [],
      "source": [
        "def correct_errors_in_binary_digital_signal(signals: List[np.ndarray]) -> np.ndarray:\n",
        "    \"\"\"\n",
        "    Corrects errors in binary signal by combining information from multiple same source signals\n",
        "    \"\"\"\n",
        "\n",
        "    corrected_signal = sum(signals)\n",
        "\n",
        "    corrected_signal[corrected_signal == 1] = 0\n",
        "    corrected_signal[corrected_signal == 2] = 1\n",
        "    corrected_signal[corrected_signal == 3] = 1\n",
        "\n",
        "    return corrected_signal"
      ]
    },
    {
      "cell_type": "markdown",
      "metadata": {
        "id": "CYQVkuz1taQ4"
      },
      "source": [
        "## Generating WAV file for digital signals"
      ]
    },
    {
      "cell_type": "code",
      "execution_count": 20,
      "metadata": {
        "id": "GpXb8Um8tcXm"
      },
      "outputs": [],
      "source": [
        "# Run this cell to generate example signals for workshop\n",
        "\n",
        "binary_signal = binary_digital_signal(\"This is simple binary signal\")\n",
        "save_signal_to_wav(binary_signal, binary_signal.shape[0], \"signal_01.wav\")\n",
        "\n",
        "am_modulated_signal = digital_am_signal(\"Here amplitudes have been modulated\")\n",
        "save_signal_to_wav(am_modulated_signal, am_modulated_signal.shape[0], \"signal_02.wav\")\n",
        "\n",
        "morse_signal = morse_code_signal(\"Morse code was used in the past\")\n",
        "save_signal_to_wav(morse_signal, morse_signal.shape[0], \"signal_03.wav\")\n",
        "\n",
        "signals_with_errors = binary_digital_signals_with_errors(\"Error correction mechanisms play a vital role in ensuring the reliability and integrity of data transmission in digital communication systems. These mechanisms are designed to detect and rectify errors that can occur during the transmission of binary data. One commonly used technique is the addition of redundant information, such as parity bits or checksums, which allow the receiver to identify and correct errors. More advanced error correction codes like Reed-Solomon codes and convolutional codes provide even greater resilience against errors by encoding the data in a mathematically structured way. These techniques are particularly crucial in scenarios where data integrity is paramount, such as in satellite communication, wireless networks, and data storage. Error correction mechanisms help maintain data accuracy, minimize retransmissions, and enhance the overall reliability of modern digital communication systems.\")\n",
        "for i, signal in enumerate(signals_with_errors):\n",
        "    save_signal_to_wav(signal, signal.shape[0], f\"signal_04_{i}.wav\")"
      ]
    },
    {
      "cell_type": "markdown",
      "source": [
        "- signal_01.wav - digital binary signal, message requires reading bits and parsing it using ascii table\n",
        "- signal_02.wav - amplitudes of digital signal have been modulated\n",
        "- signal_03.wav - digital signal representing Morse code\n",
        "- signal_04.wav - multiple signals used for ECC"
      ],
      "metadata": {
        "id": "l9VyxcQGEQhJ"
      }
    },
    {
      "cell_type": "markdown",
      "metadata": {
        "id": "JsqjsTD32u4k"
      },
      "source": [
        "## Encoding to analog signal"
      ]
    },
    {
      "cell_type": "code",
      "execution_count": 21,
      "metadata": {
        "id": "6ILdTYBg9sE1"
      },
      "outputs": [],
      "source": [
        "def plot_analog_signal(time: np.ndarray, signal: np.ndarray) -> None:\n",
        "    \"\"\"\n",
        "    Plots the analog signal in time\n",
        "    \"\"\"\n",
        "    plt.figure(figsize=(20, 5))\n",
        "    plt.xticks(np.arange(min(time), max(time)+1, 0.5))\n",
        "    plt.plot(time, signal)\n",
        "    plt.grid(visible=True)\n",
        "    plt.show()"
      ]
    },
    {
      "cell_type": "code",
      "execution_count": 22,
      "metadata": {
        "id": "UIqXnKrL9ypn"
      },
      "outputs": [],
      "source": [
        "def analog_am_signal(sentence: str) -> Tuple[np.ndarray, np.ndarray]:\n",
        "    \"\"\"\n",
        "    Turns a sentence into an analog amplitude modulated signal\n",
        "\n",
        "    Returns the signal component and time component for that signal\n",
        "    \"\"\"\n",
        "    byte_str = bytearray(sentence, encoding=\"utf-8\")\n",
        "    signal = np.array(list(byte_str))\n",
        "\n",
        "    period = 2 * np.pi\n",
        "    time = [\n",
        "        np.linspace(period*i, period*(i+1), 100)\n",
        "        for i in np.arange(0, signal.shape[0])\n",
        "    ]\n",
        "\n",
        "    signal = np.concatenate(\n",
        "        [sig_amp * np.sin(t) for sig_amp, t in zip(signal, time)]\n",
        "    )\n",
        "\n",
        "    return signal, np.concatenate(time)"
      ]
    },
    {
      "cell_type": "code",
      "execution_count": 23,
      "metadata": {
        "id": "94amudlD9zIa"
      },
      "outputs": [],
      "source": [
        "def analog_fm_signal(sentence: str) -> Tuple[np.ndarray, np.ndarray]:\n",
        "    \"\"\"\n",
        "    Turns a sentence into an analog frequency modulated signal\n",
        "\n",
        "    Returns the signal component and the time component of that signal\n",
        "    \"\"\"\n",
        "    byte_str = bytearray(sentence, encoding=\"utf-8\")\n",
        "    signal = np.array(list(byte_str))\n",
        "\n",
        "    period = 2 * np.pi\n",
        "\n",
        "    time_signal_pairs = [\n",
        "        (t := np.linspace(0, period, 100), np.sin(period * sig_freq * t))\n",
        "        for sig_freq in signal\n",
        "    ]\n",
        "\n",
        "    time = np.concatenate([\n",
        "        t + i*period\n",
        "        for i, (t, _) in enumerate(time_signal_pairs)\n",
        "    ])\n",
        "\n",
        "    signal = np.concatenate([\n",
        "        sig\n",
        "        for _, sig in time_signal_pairs\n",
        "    ])\n",
        "\n",
        "    return signal, time"
      ]
    },
    {
      "cell_type": "code",
      "execution_count": 24,
      "metadata": {
        "id": "-yzkfMlzE4xx"
      },
      "outputs": [],
      "source": [
        "def analog_wave_composition(sentence: str) -> Tuple[np.ndarray, np.ndarray]:\n",
        "    \"\"\"\n",
        "    Turns a sentence into an analog wave signal which is gotten by composing\n",
        "    waves for each char of the signal\n",
        "    Each char is both amp and freq modulated at the same time\n",
        "    by the ord of the char\n",
        "\n",
        "    Returns the signal component and the time component of that signal\n",
        "    \"\"\"\n",
        "    byte_str = bytearray(sentence, encoding=\"utf-8\")\n",
        "    signal = np.array(list(byte_str))\n",
        "\n",
        "    period = 2 * np.pi\n",
        "\n",
        "    time = np.linspace(0, period * signal.shape[0], 10_000)\n",
        "\n",
        "    signal = np.sum(np.array([\n",
        "        sig * np.sin(period * sig * time) for sig in signal\n",
        "    ]), axis=0)\n",
        "\n",
        "    return signal, time"
      ]
    },
    {
      "cell_type": "code",
      "execution_count": 25,
      "metadata": {
        "id": "aS4G6bTdQcfi"
      },
      "outputs": [],
      "source": [
        "def analog_white_noise_signal() -> Tuple[np.ndarray, np.ndarray]:\n",
        "    \"\"\"\n",
        "    Generates sin wave (note A) with white noises added to it\n",
        "    \"\"\"\n",
        "    np.random.seed(0)\n",
        "\n",
        "    duration = 3                            # duration of sound in seconds\n",
        "    sampling_freq = DEFAULT_SAMPLING_RATE   # important when saving to wav file\n",
        "    freq = 400                              # note A frequency\n",
        "    noise_amp = 0.2                         # used for dampening noise\n",
        "    signal_amp = 1                          # default amplitude of sin wave\n",
        "\n",
        "    time = np.linspace(0, duration, round(sampling_freq * duration))\n",
        "\n",
        "    signal = signal_amp * np.sin(2 * np.pi * freq * time)\n",
        "    white_noise = noise_amp * np.random.randn(time.shape[0])\n",
        "\n",
        "    noisy_signal = signal + white_noise\n",
        "\n",
        "    return noisy_signal, time"
      ]
    },
    {
      "cell_type": "code",
      "source": [
        "def analog_mixed_notes_signal() -> Tuple[np.ndarray, np.ndarray]:\n",
        "    \"\"\"\n",
        "    Generates analog signal where notes are mixed together in one signal\n",
        "    \"\"\"\n",
        "    amps = [2.0, 5.0, 2.0, 1.0]\n",
        "    freqs = [220.0, 440.0, 880.0, 1760.0]\n",
        "\n",
        "    duration = 5\n",
        "    sampling_freq = DEFAULT_SAMPLING_RATE\n",
        "\n",
        "    time = np.linspace(0, duration, round(duration * sampling_freq))\n",
        "    period = 2 * np.pi\n",
        "\n",
        "    signal = np.sum(np.array([\n",
        "        amp * np.sin(period * freq * time) for amp, freq in zip(amps, freqs)\n",
        "    ]), axis=0)\n",
        "\n",
        "    return signal, time"
      ],
      "metadata": {
        "id": "3J9-l2LhihSx"
      },
      "execution_count": 26,
      "outputs": []
    },
    {
      "cell_type": "markdown",
      "metadata": {
        "id": "GurLDzxD2xJ6"
      },
      "source": [
        "## Decoding from analog singal"
      ]
    },
    {
      "cell_type": "code",
      "execution_count": 27,
      "metadata": {
        "id": "KQVMAptn1Vo3"
      },
      "outputs": [],
      "source": [
        "def decode_analog_am_signal(signal: np.ndarray) -> str:\n",
        "    \"\"\"\n",
        "    Turns analog amplitude modulated signal into a sentence\n",
        "\n",
        "    Calculates number of different amplitude of sin waves and then\n",
        "    split main signal into sub signals and finds local maximums which represent\n",
        "    different characters\n",
        "    \"\"\"\n",
        "    sentence_len = len(signal[np.isclose(signal, 0)]) // 2\n",
        "    split_signal = np.split(signal, sentence_len)\n",
        "\n",
        "    sentence = \"\".join([chr(round(np.max(s))) for s in split_signal])\n",
        "\n",
        "    return sentence"
      ]
    },
    {
      "cell_type": "code",
      "execution_count": 28,
      "metadata": {
        "id": "wS3VCjatyoyb"
      },
      "outputs": [],
      "source": [
        "def decode_analog_fm_signal(signal: np.ndarray, time: np.ndarray) -> str:\n",
        "    \"\"\"\n",
        "    Turns frequency modulated analog signal into a sentence\n",
        "    \"\"\"\n",
        "    period = 2 * np.pi\n",
        "\n",
        "    sentence_len = len(signal[signal == 0])\n",
        "    split_signal = np.split(signal, sentence_len)\n",
        "    split_time = np.split(time, sentence_len)\n",
        "    t = split_time[0]\n",
        "    sentence = []\n",
        "    for sig in split_signal:\n",
        "      for i in range(255):\n",
        "        fake_sig = np.sin(np.array([i * a * period for a in t]))\n",
        "        if np.allclose(fake_sig, sig, 0, 0.0001):\n",
        "          sentence.append(chr(i))\n",
        "          break\n",
        "    return \"\".join(sentence)"
      ]
    },
    {
      "cell_type": "code",
      "execution_count": 29,
      "metadata": {
        "id": "lF1o44aJFdoL"
      },
      "outputs": [],
      "source": [
        "def decode_analog_wave_composition(signal: np.ndarray, time: np.ndarray) -> str:\n",
        "    \"\"\"\n",
        "    Uses FFT to transfrom signal into frequency domain and decode sentance\n",
        "    \"\"\"\n",
        "    fft_spectrum = np.abs(np.fft.rfft(signal))\n",
        "    fft_spectrum /= fft_spectrum.size\n",
        "    fft_spectrum *= 2\n",
        "\n",
        "    sampling_freq = time.size / time[-1]\n",
        "\n",
        "    fft_freq = np.fft.rfftfreq(signal.size, 1 / sampling_freq)\n",
        "\n",
        "    plt.figure(figsize=(15, 5))\n",
        "    plt.plot(fft_freq, fft_spectrum)\n",
        "    plt.xlabel(\"Frequency\")\n",
        "    plt.ylabel(\"Amplitude\")\n",
        "    plt.show()"
      ]
    },
    {
      "cell_type": "code",
      "execution_count": 30,
      "metadata": {
        "id": "PCh3F9QtQv2M"
      },
      "outputs": [],
      "source": [
        " def filter_analog_white_noise_signal(signal: np.ndarray, filter_size: int = 50) -> np.ndarray:\n",
        "    \"\"\"\n",
        "    Filters white noise from signal by using convolution and simple moving average filter\n",
        "\n",
        "    Filtered signal is same in size as noisy signal\n",
        "    \"\"\"\n",
        "\n",
        "    filter = np.ones(filter_size) / filter_size\n",
        "\n",
        "    filtered_signal = np.convolve(signal, filter, \"same\")\n",
        "\n",
        "    return filtered_signal"
      ]
    },
    {
      "cell_type": "markdown",
      "source": [
        "## Generating WAV file for analog signals"
      ],
      "metadata": {
        "id": "G8jqrVUU3rq_"
      }
    },
    {
      "cell_type": "code",
      "source": [
        "# Run this cell to generate example signals for workshop\n",
        "\n",
        "am_signal, time = analog_am_signal(\"Analog signals can be represented using discrete values\")\n",
        "save_signal_to_wav(am_signal, am_signal.shape[0], \"signal_05.wav\")\n",
        "\n",
        "# fm_signal, time = analog_fm_signal(\"Frequency can also hide secret messages\")\n",
        "# save_signal_to_wav(fm_signal, fm_signal.shape[0], \"signal_06.wav\")\n",
        "\n",
        "# comp_signal, time = analog_wave_composition(\"abcdef\")\n",
        "# save_signal_to_wav(comp_signal, comp_signal.shape[0], \"signal_07.wav\")\n",
        "\n",
        "noisy_signal, time = analog_white_noise_signal()\n",
        "save_signal_to_wav(noisy_signal, time, \"signal_06.wav\", DEFAULT_SAMPLING_RATE)\n",
        "\n",
        "notes_signal, time = analog_mixed_notes_signal()\n",
        "save_signal_to_wav(notes_signal, time, \"signal_07.wav\", DEFAULT_SAMPLING_RATE)"
      ],
      "metadata": {
        "id": "5MucANu935JB"
      },
      "execution_count": 31,
      "outputs": []
    },
    {
      "cell_type": "markdown",
      "source": [
        "- signal_05.wav - amplitude modulated analog signal, message is read from amplitude\n",
        "- signal_06.wav - sin wave signal with white noise, requires convolution to denoise\n",
        "- signal_07.wav - FM modulated analog signal with mixed notes, requires FFT to decode"
      ],
      "metadata": {
        "id": "5cG2PAVZDNmy"
      }
    },
    {
      "cell_type": "markdown",
      "source": [
        "## Processing and decoding signals recived by SDR"
      ],
      "metadata": {
        "id": "C1PPdwfTxZjv"
      }
    },
    {
      "cell_type": "code",
      "source": [
        "def encoding_morse_binary_signal(sentence: str) -> np.ndarray:\n",
        "    \"\"\"\n",
        "    This function encodes sentece to binary, then it translates 0 to short duration note A\n",
        "    and 1 to longer duration note A. Note B marks the beginning of the signal.\n",
        "    \"\"\"\n",
        "\n",
        "    freq = 880\n",
        "    amp = 0.2\n",
        "    duration = 60   # seconds\n",
        "\n",
        "    signal = binary_digital_signal(sentence)\n",
        "\n",
        "    data = []\n",
        "\n",
        "    for i in signal:\n",
        "        data.extend([0] * round(DEFAULT_SAMPLING_RATE / 32))\n",
        "        if i:\n",
        "            data.extend([1] * round(DEFAULT_SAMPLING_RATE / 32) * 2)\n",
        "        else:\n",
        "            data.extend([1] * round(DEFAULT_SAMPLING_RATE / 32))\n",
        "\n",
        "    signal = np.array(data).astype(np.float32)\n",
        "    time = np.linspace(0, duration, len(signal))\n",
        "\n",
        "    signal = signal * np.sin(2 * np.pi * freq * time) * amp\n",
        "    leader = np.sin(2 * np.pi * 600 * time[:22050]) * amp\n",
        "    signal = np.concatenate((leader, signal))\n",
        "\n",
        "    return signal"
      ],
      "metadata": {
        "id": "LI_hs46IYDrY"
      },
      "execution_count": 32,
      "outputs": []
    },
    {
      "cell_type": "code",
      "source": [
        "def decoding_morse_binary_signal(signal: np.ndarray, sampling_rate: int, tolerance: int = 100) -> str:\n",
        "    \"\"\"\n",
        "    Decodes signal that was encoded with encoding_morse_binary_signal function\n",
        "    \"\"\"\n",
        "\n",
        "    split_signal = np.split(signal, np.where(signal == 0)[0])\n",
        "\n",
        "    signal_of_len = np.array([len(k) for k in split_signal if len(k) > tolerance])\n",
        "    threshold = (min(signal_of_len) + max(signal_of_len) ) // 2\n",
        "\n",
        "    signal_of_len[signal_of_len <= threshold] = 0.0\n",
        "    signal_of_len[signal_of_len >= threshold] = 1.0\n",
        "\n",
        "    end = signal_of_len.size % 8\n",
        "    if end != 0:\n",
        "        signal_of_len = signal_of_len[:-end]\n",
        "\n",
        "    message = decode_binary_digital_signal(signal_of_len)\n",
        "\n",
        "    return message"
      ],
      "metadata": {
        "id": "tfTcssX3YGvH"
      },
      "execution_count": 33,
      "outputs": []
    },
    {
      "cell_type": "markdown",
      "source": [
        "### Main"
      ],
      "metadata": {
        "id": "nHiyq1iUycg4"
      }
    },
    {
      "cell_type": "code",
      "source": [
        "# Saving to file\n",
        "signal = encoding_morse_binary_signal(SECRET_SENTECE)\n",
        "duration = signal.size // DEFAULT_SAMPLING_RATE\n",
        "save_signal_to_wav(signal, 60, \"kontakt.wav\", round(DEFAULT_SAMPLING_RATE / 2))\n",
        "\n",
        "# Reading from file and decoding\n",
        "rate, signal = read_signal_from_wav(\"kontakt.wav\")\n",
        "\n",
        "# Cutting note B (start sound)\n",
        "signal = signal[rate:]\n",
        "\n",
        "decoding_morse_binary_signal(signal, rate)"
      ],
      "metadata": {
        "id": "1bCVuIbCNuPA",
        "colab": {
          "base_uri": "https://localhost:8080/",
          "height": 35
        },
        "outputId": "ccb9b450-4fdf-4b34-8af2-0f9517d544a0"
      },
      "execution_count": 36,
      "outputs": [
        {
          "output_type": "execute_result",
          "data": {
            "text/plain": [
              "'KDMDS PC MD PGC PC FCTO TJOLCFB! LBMBSO PC KD MLOUIB'"
            ],
            "application/vnd.google.colaboratory.intrinsic+json": {
              "type": "string"
            }
          },
          "metadata": {},
          "execution_count": 36
        }
      ]
    },
    {
      "cell_type": "markdown",
      "source": [
        "### Testing with real signal"
      ],
      "metadata": {
        "id": "hoD6i8Y5yQ_5"
      }
    },
    {
      "cell_type": "code",
      "source": [
        "import os\n",
        "\n",
        "sdr_signal_path = 'radio_signal.wav'\n",
        "\n",
        "if os.path.exists(sdr_signal_path):\n",
        "\n",
        "    rate, signal = read_signal_from_wav(sdr_signal_path)\n",
        "    signal = signal[:, 0]\n",
        "\n",
        "    duration = signal.size / rate\n",
        "\n",
        "    time = np.linspace(0, duration, signal.size)\n",
        "\n",
        "    signal = signal[6*rate:47*rate]\n",
        "    time = time[6*rate:47*rate]\n",
        "\n",
        "    signal[abs(signal) <= 10_000] = 0.0\n",
        "    signal[abs(signal) > 10_000] = 1.0\n",
        "\n",
        "    filter_size = 50\n",
        "    filter = np.ones(filter_size) / filter_size\n",
        "\n",
        "    signal = np.convolve(signal, filter, mode = \"same\")\n",
        "\n",
        "    signal[signal > 0] = 1.0\n",
        "\n",
        "    # plot_analog_signal(time, signal)\n",
        "\n",
        "    print(decoding_morse_binary_signal(signal, rate))"
      ],
      "metadata": {
        "id": "KCDmODpZJrrI"
      },
      "execution_count": 35,
      "outputs": []
    }
  ],
  "metadata": {
    "colab": {
      "collapsed_sections": [
        "UG7NPZqv24jo",
        "lMm2NOeB6Faa",
        "8u8LLjuD2kXQ",
        "CYQVkuz1taQ4",
        "JsqjsTD32u4k",
        "GurLDzxD2xJ6"
      ],
      "provenance": []
    },
    "kernelspec": {
      "display_name": "Python 3",
      "name": "python3"
    },
    "language_info": {
      "name": "python"
    }
  },
  "nbformat": 4,
  "nbformat_minor": 0
}